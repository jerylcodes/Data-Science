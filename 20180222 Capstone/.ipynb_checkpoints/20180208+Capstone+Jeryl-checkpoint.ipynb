{
 "cells": [
  {
   "cell_type": "markdown",
   "metadata": {},
   "source": [
    "# My Grocery Finder  \n",
    "\n",
    "\"Have you ever entered the supermarket and wondered where the pesky kitkat bar is at? Or your favourite brand of coffee? Don't you wish there is someone (or something) who tells you where exactly your grocery is?\"\n",
    "\n",
    "\n",
    "## Potential solution\n",
    "\n",
    "Using photos of groceries in the store, create an image classifier. Integrate the classifier into the kiosk when you can scan a google image of the grocery and it will return row number, shelf number of the grocery.\n",
    "\n",
    "\n",
    "## Dataset\n",
    "\n",
    "Grozi dataset of groceries from the University of California, San Diego.  \n",
    "<br />\n",
    "<br />\n",
    "Training dataset: 17 grocery items with n photos per grocery.\n",
    "\n",
    "Google dataset: 17 grocery items with n photos per grocery.\n",
    "\n",
    "## Data cleaning\n",
    "\n",
    "1. Resize images to 128 by 128 pixels\n",
    "2. Convert to jpeg format to flatten channels\n",
    "\n",
    "## Workflow\n",
    "\n",
    "1. \n",
    "2. \n",
    "3.\n",
    "4.\n",
    "5.\n",
    "\n",
    "\n",
    "## Other work\n",
    "Improve resolution of images\n",
    "\n",
    "## Brand recognition from image\n",
    "image localisation  \n",
    "image segmentation"
   ]
  },
  {
   "cell_type": "markdown",
   "metadata": {},
   "source": [
    "## 1. Import packages"
   ]
  },
  {
   "cell_type": "code",
   "execution_count": 1,
   "metadata": {},
   "outputs": [
    {
     "name": "stderr",
     "output_type": "stream",
     "text": [
      "/home/Jeryl/anaconda3/lib/python3.6/site-packages/sklearn/cross_validation.py:41: DeprecationWarning: This module was deprecated in version 0.18 in favor of the model_selection module into which all the refactored classes and functions are moved. Also note that the interface of the new CV iterators are different from that of this module. This module will be removed in 0.20.\n",
      "  \"This module will be removed in 0.20.\", DeprecationWarning)\n",
      "Using TensorFlow backend.\n"
     ]
    }
   ],
   "source": [
    "import pandas as pd\n",
    "import numpy as np\n",
    "import os, cv2\n",
    "import glob\n",
    "from scipy import misc\n",
    "import sys\n",
    "import math\n",
    "\n",
    "import matplotlib.pyplot as plt\n",
    "import seaborn as sns\n",
    "import pickle\n",
    "\n",
    "from sklearn.utils import shuffle\n",
    "from sklearn.cross_validation import train_test_split\n",
    "\n",
    "import h5py\n",
    "from keras.preprocessing.image import ImageDataGenerator,array_to_img, img_to_array, load_img\n",
    "from PIL import Image\n",
    "%matplotlib inline"
   ]
  },
  {
   "cell_type": "markdown",
   "metadata": {},
   "source": [
    "## 2. Data preparation.\n",
    "Access files in file directory, and convert images to matrix containing pixel RGB values"
   ]
  },
  {
   "cell_type": "code",
   "execution_count": 2,
   "metadata": {
    "collapsed": true
   },
   "outputs": [],
   "source": [
    "# Declaring img rows and cols (pixels)\n",
    "\n",
    "img_rows= 128\n",
    "img_cols= 128\n",
    "num_channel= 3\n",
    "\n",
    "# Get current directory\n",
    "\n",
    "PATH = os.getcwd()\n",
    "\n",
    "# Define data path\n",
    "\n",
    "data_path = PATH + '/Dataset/insitujpg'\n",
    "data_dir_list = os.listdir(data_path)"
   ]
  },
  {
   "cell_type": "code",
   "execution_count": 3,
   "metadata": {
    "collapsed": true
   },
   "outputs": [],
   "source": [
    "# Construct data dictionary of training dataset \n",
    "\n",
    "directory=[]\n",
    "\n",
    "for dataset in data_dir_list:\n",
    "    img_list=os.listdir(data_path+'/'+ dataset)\n",
    "    for img in img_list:\n",
    "        directory.append(int(dataset))"
   ]
  },
  {
   "cell_type": "code",
   "execution_count": 4,
   "metadata": {
    "collapsed": true
   },
   "outputs": [],
   "source": [
    "# make a pandas df and value counts to remove data with little images\n",
    "\n",
    "df_trainlabels = pd.DataFrame(directory)"
   ]
  },
  {
   "cell_type": "code",
   "execution_count": 24,
   "metadata": {},
   "outputs": [
    {
     "data": {
      "text/plain": [
       "<matplotlib.axes._subplots.AxesSubplot at 0x7f4d020a9cf8>"
      ]
     },
     "execution_count": 24,
     "metadata": {},
     "output_type": "execute_result"
    },
    {
     "data": {
      "image/png": "[encoded data removed]",
      "text/plain": [
       "<matplotlib.figure.Figure at 0x7f4d02591d30>"
      ]
     },
     "metadata": {},
     "output_type": "display_data"
    }
   ],
   "source": [
    "fig, ax = plt.subplots(figsize=(20, 10)) \n",
    "df_trainlabels[0].value_counts().plot(kind='bar')"
   ]
  },
  {
   "cell_type": "code",
   "execution_count": 19,
   "metadata": {},
   "outputs": [
    {
     "name": "stdout",
     "output_type": "stream",
     "text": [
      "Mean number of images per label: 91.25\n",
      "Median number of images per label: 56.0\n"
     ]
    }
   ],
   "source": [
    "print('Mean number of images per label: {}'.format(np.mean(df_trainlabels[0].value_counts())))\n",
    "print('Median number of images per label: {}'.format(np.median(df_trainlabels[0].value_counts())))"
   ]
  },
  {
   "cell_type": "markdown",
   "metadata": {},
   "source": [
    "## Data imbalanced?\n",
    "From distribution, data set is right skewed. Some images have less than 100 training images. If train test split, these images will have 70-30 raw images split. So consider keeping images with > mean training images. Future work: collect more training images per class"
   ]
  },
  {
   "cell_type": "code",
   "execution_count": 29,
   "metadata": {
    "collapsed": true
   },
   "outputs": [],
   "source": [
    "# Make value counts data frame and get index of rows > mean\n",
    "\n",
    "df1 = pd.DataFrame(df_trainlabels[0].value_counts())"
   ]
  },
  {
   "cell_type": "code",
   "execution_count": 37,
   "metadata": {},
   "outputs": [
    {
     "data": {
      "text/plain": [
       "[6, 7, 8, 9, 10, 17, 18, 26, 32, 34, 35, 44, 46, 50, 61, 72, 74]"
      ]
     },
     "execution_count": 37,
     "metadata": {},
     "output_type": "execute_result"
    }
   ],
   "source": [
    "# Get the index of labels that have number of images > mean\n",
    "\n",
    "sorted(df1[df1[0]>91.25].index)"
   ]
  },
  {
   "cell_type": "code",
   "execution_count": 41,
   "metadata": {},
   "outputs": [
    {
     "data": {
      "text/html": [
       "<div>\n",
       "<style>\n",
       "    .dataframe thead tr:only-child th {\n",
       "        text-align: right;\n",
       "    }\n",
       "\n",
       "    .dataframe thead th {\n",
       "        text-align: left;\n",
       "    }\n",
       "\n",
       "    .dataframe tbody tr th {\n",
       "        vertical-align: top;\n",
       "    }\n",
       "</style>\n",
       "<table border=\"1\" class=\"dataframe\">\n",
       "  <thead>\n",
       "    <tr style=\"text-align: right;\">\n",
       "      <th></th>\n",
       "      <th>0</th>\n",
       "    </tr>\n",
       "  </thead>\n",
       "  <tbody>\n",
       "    <tr>\n",
       "      <th>18</th>\n",
       "      <td>509</td>\n",
       "    </tr>\n",
       "    <tr>\n",
       "      <th>17</th>\n",
       "      <td>495</td>\n",
       "    </tr>\n",
       "    <tr>\n",
       "      <th>8</th>\n",
       "      <td>465</td>\n",
       "    </tr>\n",
       "    <tr>\n",
       "      <th>26</th>\n",
       "      <td>314</td>\n",
       "    </tr>\n",
       "    <tr>\n",
       "      <th>34</th>\n",
       "      <td>273</td>\n",
       "    </tr>\n",
       "    <tr>\n",
       "      <th>44</th>\n",
       "      <td>242</td>\n",
       "    </tr>\n",
       "    <tr>\n",
       "      <th>7</th>\n",
       "      <td>215</td>\n",
       "    </tr>\n",
       "    <tr>\n",
       "      <th>74</th>\n",
       "      <td>209</td>\n",
       "    </tr>\n",
       "    <tr>\n",
       "      <th>50</th>\n",
       "      <td>203</td>\n",
       "    </tr>\n",
       "    <tr>\n",
       "      <th>46</th>\n",
       "      <td>184</td>\n",
       "    </tr>\n",
       "    <tr>\n",
       "      <th>9</th>\n",
       "      <td>174</td>\n",
       "    </tr>\n",
       "    <tr>\n",
       "      <th>72</th>\n",
       "      <td>171</td>\n",
       "    </tr>\n",
       "    <tr>\n",
       "      <th>32</th>\n",
       "      <td>148</td>\n",
       "    </tr>\n",
       "    <tr>\n",
       "      <th>61</th>\n",
       "      <td>145</td>\n",
       "    </tr>\n",
       "    <tr>\n",
       "      <th>10</th>\n",
       "      <td>120</td>\n",
       "    </tr>\n",
       "    <tr>\n",
       "      <th>6</th>\n",
       "      <td>106</td>\n",
       "    </tr>\n",
       "    <tr>\n",
       "      <th>35</th>\n",
       "      <td>104</td>\n",
       "    </tr>\n",
       "  </tbody>\n",
       "</table>\n",
       "</div>"
      ],
      "text/plain": [
       "      0\n",
       "18  509\n",
       "17  495\n",
       "8   465\n",
       "26  314\n",
       "34  273\n",
       "44  242\n",
       "7   215\n",
       "74  209\n",
       "50  203\n",
       "46  184\n",
       "9   174\n",
       "72  171\n",
       "32  148\n",
       "61  145\n",
       "10  120\n",
       "6   106\n",
       "35  104"
      ]
     },
     "execution_count": 41,
     "metadata": {},
     "output_type": "execute_result"
    }
   ],
   "source": [
    "# Show value counts of labels that have counts above mean\n",
    "\n",
    "df1[df1[0]>91.25]"
   ]
  },
  {
   "cell_type": "markdown",
   "metadata": {},
   "source": [
    "## Image augmentation\n",
    "Using the image generator from keras, to do random transformations to images. This effectively increases number of images per label to a level that is defined (in our case 1000 images)."
   ]
  },
  {
   "cell_type": "code",
   "execution_count": 46,
   "metadata": {
    "collapsed": true
   },
   "outputs": [],
   "source": [
    "# Define data path\n",
    "\n",
    "data_path = PATH + '/Dataset/insitujpg'\n",
    "data_dir_list = os.listdir(data_path)\n",
    "\n",
    "# Construct data dictionary of training dataset \n",
    "\n",
    "directory=[]\n",
    "\n",
    "for dataset in data_dir_list:\n",
    "    img_list=os.listdir(data_path+'/'+ dataset)\n",
    "    for img in img_list:\n",
    "        directory.append(int(dataset))"
   ]
  },
  {
   "cell_type": "code",
   "execution_count": 48,
   "metadata": {
    "collapsed": true
   },
   "outputs": [],
   "source": [
    "y_train = np.array(directory)\n",
    "\n",
    "# Pickle y_train\n",
    "pickle_out = open('y_train','wb')\n",
    "pickle.dump(y_train, pickle_out)\n",
    "pickle_out.close()\n",
    "\n",
    "del y_train"
   ]
  },
  {
   "cell_type": "code",
   "execution_count": 49,
   "metadata": {
    "collapsed": true
   },
   "outputs": [],
   "source": [
    "datadict = pd.DataFrame(directory, columns=['label'])"
   ]
  },
  {
   "cell_type": "code",
   "execution_count": 58,
   "metadata": {
    "scrolled": true
   },
   "outputs": [
    {
     "name": "stdout",
     "output_type": "stream",
     "text": [
      "6     509\n",
      "5     495\n",
      "2     465\n",
      "7     314\n",
      "9     273\n",
      "11    242\n",
      "1     215\n",
      "16    209\n",
      "13    203\n",
      "12    184\n",
      "3     174\n",
      "15    171\n",
      "8     148\n",
      "14    145\n",
      "4     120\n",
      "0     106\n",
      "10    104\n",
      "Name: label, dtype: int64\n"
     ]
    }
   ],
   "source": [
    "label_counts=datadict.label.value_counts()\n",
    "print(label_counts)"
   ]
  },
  {
   "cell_type": "code",
   "execution_count": 43,
   "metadata": {
    "collapsed": true
   },
   "outputs": [],
   "source": [
    "# Image augmentation\n",
    "datagen = ImageDataGenerator(\n",
    "        rotation_range=40,\n",
    "        width_shift_range=0.2,\n",
    "        height_shift_range=0.2,\n",
    "        shear_range=0.2,\n",
    "        zoom_range=0.2,\n",
    "        fill_mode='nearest')\n",
    "\n",
    "class_size=1000"
   ]
  },
  {
   "cell_type": "code",
   "execution_count": 62,
   "metadata": {
    "collapsed": true
   },
   "outputs": [],
   "source": [
    "# Specify source and destination paths for image generation\n",
    "src_train_dir= os.path.join(PATH,'Dataset', 'insitujpg')\n",
    "dest_train_dir= os.path.join(PATH,'Dataset', 'augment')\n"
   ]
  },
  {
   "cell_type": "code",
   "execution_count": 69,
   "metadata": {},
   "outputs": [
    {
     "name": "stdout",
     "output_type": "stream",
     "text": [
      "509 509\n",
      "495 990\n",
      "465 930\n",
      "314 942\n",
      "273 819\n",
      "242 968\n",
      "215 860\n",
      "209 836\n",
      "203 812\n",
      "184 920\n",
      "174 870\n",
      "171 855\n",
      "148 888\n",
      "145 870\n",
      "120 960\n",
      "106 954\n",
      "104 936\n"
     ]
    }
   ],
   "source": [
    "it = 0\n",
    "# Use counts for individual values, generate enough images till it hits roughly 1000\n",
    "for count in label_counts.values:\n",
    "    #nb of generations per image for this class label in order to make it size ~= class_size\n",
    "    ratio=math.floor(class_size/count)-1\n",
    "    print(count,count*(ratio+1))\n",
    "    dest_lab_dir=os.path.join(dest_train_dir,str(label_counts.index[it]))\n",
    "    src_lab_dir=os.path.join(src_train_dir,str(label_counts.index[it]))\n",
    "    if not os.path.exists(dest_lab_dir):\n",
    "        os.makedirs(dest_lab_dir)\n",
    "    for file in os.listdir(src_lab_dir):\n",
    "        img=load_img(os.path.join(src_lab_dir,file))\n",
    "        #img.save(os.path.join(dest_lab_dir,file))\n",
    "        x=img_to_array(img) \n",
    "        x=x.reshape((1,) + x.shape)\n",
    "        i=0\n",
    "        for batch in datagen.flow(x, batch_size=1,save_to_dir=dest_lab_dir, save_format='jpg'):\n",
    "            i+=1\n",
    "            if i > ratio:\n",
    "                break \n",
    "    it=it+1"
   ]
  },
  {
   "cell_type": "code",
   "execution_count": 3,
   "metadata": {
    "collapsed": true
   },
   "outputs": [],
   "source": [
    "# Check distribution of labels after augmentation\n",
    "aug_label = []\n",
    "\n",
    "data_path = os.path.join(PATH,'Dataset', 'augment')\n",
    "data_dir_list = os.listdir(data_path)\n",
    "\n",
    "# Construct data dictionary of training dataset \n",
    "for dataset in data_dir_list:\n",
    "    img_list=os.listdir(data_path+'/'+ dataset)\n",
    "    for img in img_list:\n",
    "        aug_label.append(int(dataset))"
   ]
  },
  {
   "cell_type": "markdown",
   "metadata": {},
   "source": [
    "## After augmentation and balancing"
   ]
  },
  {
   "cell_type": "code",
   "execution_count": 4,
   "metadata": {},
   "outputs": [
    {
     "data": {
      "text/plain": [
       "<matplotlib.axes._subplots.AxesSubplot at 0x7fe3ff8e6cc0>"
      ]
     },
     "execution_count": 4,
     "metadata": {},
     "output_type": "execute_result"
    },
    {
     "data": {
      "image/png": "[encoded data removed]",
      "text/plain": [
       "<matplotlib.figure.Figure at 0x7fe3ff8e6748>"
      ]
     },
     "metadata": {},
     "output_type": "display_data"
    }
   ],
   "source": [
    "augcount = pd.DataFrame(aug_label)\n",
    "augcount[0].value_counts().plot(kind='bar')"
   ]
  },
  {
   "cell_type": "markdown",
   "metadata": {},
   "source": [
    "## Generating matrix of images, divide by 255 to normalise intensity\n",
    "\n",
    "## Training set\n"
   ]
  },
  {
   "cell_type": "code",
   "execution_count": 5,
   "metadata": {
    "scrolled": true
   },
   "outputs": [
    {
     "name": "stdout",
     "output_type": "stream",
     "text": [
      "Loaded the images of dataset-8\n",
      "\n",
      "Loaded the images of dataset-4\n",
      "\n",
      "Loaded the images of dataset-11\n",
      "\n",
      "Loaded the images of dataset-6\n",
      "\n",
      "Loaded the images of dataset-12\n",
      "\n",
      "Loaded the images of dataset-15\n",
      "\n",
      "Loaded the images of dataset-0\n",
      "\n",
      "Loaded the images of dataset-10\n",
      "\n",
      "Loaded the images of dataset-5\n",
      "\n",
      "Loaded the images of dataset-3\n",
      "\n",
      "Loaded the images of dataset-14\n",
      "\n",
      "Loaded the images of dataset-7\n",
      "\n",
      "Loaded the images of dataset-13\n",
      "\n",
      "Loaded the images of dataset-16\n",
      "\n",
      "Loaded the images of dataset-9\n",
      "\n",
      "Loaded the images of dataset-1\n",
      "\n",
      "Loaded the images of dataset-2\n",
      "\n"
     ]
    }
   ],
   "source": [
    "# Training dataset\n",
    "# Read image using cv2, then append matrix to list\n",
    "\n",
    "img_data_list=[]\n",
    "\n",
    "for dataset in data_dir_list:\n",
    "    img_list=os.listdir(data_path+'/'+ dataset)\n",
    "    print ('Loaded the images of dataset-'+'{}\\n'.format(dataset))\n",
    "    for img in img_list:\n",
    "        input_img=cv2.imread(data_path + '/'+ dataset + '/'+ img )\n",
    "        input_img_resize=cv2.resize(input_img,(128,128))\n",
    "        img_data_list.append(input_img_resize)"
   ]
  },
  {
   "cell_type": "code",
   "execution_count": 6,
   "metadata": {},
   "outputs": [
    {
     "name": "stdout",
     "output_type": "stream",
     "text": [
      "(18337, 128, 128, 3)\n"
     ]
    }
   ],
   "source": [
    "# Make matrix into arrays\n",
    "\n",
    "img_data = np.array(img_data_list)\n",
    "img_data = img_data.astype('float32')\n",
    "img_data /= 255\n",
    "print (img_data.shape)"
   ]
  },
  {
   "cell_type": "code",
   "execution_count": 7,
   "metadata": {
    "collapsed": true
   },
   "outputs": [],
   "source": [
    "# Pickle X_train\n",
    "pickle_out = open('X_train','wb')\n",
    "pickle.dump(img_data, pickle_out)\n",
    "pickle_out.close()\n",
    "\n",
    "del img_data\n"
   ]
  },
  {
   "cell_type": "code",
   "execution_count": 10,
   "metadata": {
    "collapsed": true
   },
   "outputs": [],
   "source": [
    "ylab = np.array(aug_label)\n",
    "ylab = ylab.astype('int8')\n",
    "\n",
    "# Pickle y_train\n",
    "pickle_out = open('y_train','wb')\n",
    "pickle.dump(ylab, pickle_out)\n",
    "pickle_out.close()\n",
    "\n",
    "del ylab\n"
   ]
  },
  {
   "cell_type": "markdown",
   "metadata": {},
   "source": [
    "## Testing set"
   ]
  },
  {
   "cell_type": "code",
   "execution_count": 11,
   "metadata": {
    "collapsed": true
   },
   "outputs": [],
   "source": [
    "# Get current directory of test set\n",
    "\n",
    "PATH = os.getcwd()\n",
    "# Define data path\n",
    "data_path2 = os.path.join(PATH,'Dataset', 'invitrojpg')\n",
    "data_dir_list2 = os.listdir(data_path2)"
   ]
  },
  {
   "cell_type": "code",
   "execution_count": 12,
   "metadata": {},
   "outputs": [
    {
     "name": "stdout",
     "output_type": "stream",
     "text": [
      "Loaded the images of dataset-8\n",
      "\n",
      "Loaded the images of dataset-4\n",
      "\n",
      "Loaded the images of dataset-11\n",
      "\n",
      "Loaded the images of dataset-6\n",
      "\n",
      "Loaded the images of dataset-12\n",
      "\n",
      "Loaded the images of dataset-15\n",
      "\n",
      "Loaded the images of dataset-0\n",
      "\n",
      "Loaded the images of dataset-10\n",
      "\n",
      "Loaded the images of dataset-5\n",
      "\n",
      "Loaded the images of dataset-3\n",
      "\n",
      "Loaded the images of dataset-14\n",
      "\n",
      "Loaded the images of dataset-7\n",
      "\n",
      "Loaded the images of dataset-.ipynb_checkpoints\n",
      "\n",
      "Loaded the images of dataset-13\n",
      "\n",
      "Loaded the images of dataset-16\n",
      "\n",
      "Loaded the images of dataset-9\n",
      "\n",
      "Loaded the images of dataset-1\n",
      "\n",
      "Loaded the images of dataset-2\n",
      "\n"
     ]
    }
   ],
   "source": [
    "# Test dataset\n",
    "# Read image using cv2, then append matrix to list\n",
    "\n",
    "img_data_list2=[]\n",
    "\n",
    "for dataset in data_dir_list2:\n",
    "    img_list=os.listdir(os.path.join(data_path2,dataset))\n",
    "    print ('Loaded the images of dataset-'+'{}\\n'.format(dataset))\n",
    "    for img in img_list:\n",
    "        input_img=plt.imread(os.path.join(data_path2, dataset, img))\n",
    "        input_img_resize=cv2.resize(input_img,(128,128))\n",
    "        img_data_list2.append(input_img_resize)"
   ]
  },
  {
   "cell_type": "code",
   "execution_count": 13,
   "metadata": {},
   "outputs": [
    {
     "name": "stdout",
     "output_type": "stream",
     "text": [
      "(84, 128, 128, 3)\n"
     ]
    }
   ],
   "source": [
    "# Make matrix into arrays\n",
    "\n",
    "img_data2 = np.array(img_data_list2)\n",
    "img_data2 = img_data2.astype('float32')\n",
    "img_data2 /= 255\n",
    "print (img_data2.shape)\n"
   ]
  },
  {
   "cell_type": "code",
   "execution_count": 14,
   "metadata": {
    "collapsed": true
   },
   "outputs": [],
   "source": [
    "# Pickle X_test\n",
    "pickle_out = open('X_test','wb')\n",
    "pickle.dump(img_data2, pickle_out)\n",
    "pickle_out.close()\n",
    "\n",
    "del img_data2\n"
   ]
  },
  {
   "cell_type": "code",
   "execution_count": 15,
   "metadata": {
    "collapsed": true
   },
   "outputs": [],
   "source": [
    "# Construct data dictionary of training dataset \n",
    "\n",
    "directory1=[]\n",
    "\n",
    "for dataset in data_dir_list2:\n",
    "    img_list=os.listdir(os.path.join(data_path2, dataset))\n",
    "    for img in img_list:\n",
    "        directory1.append(int(dataset))\n"
   ]
  },
  {
   "cell_type": "code",
   "execution_count": 16,
   "metadata": {
    "collapsed": true
   },
   "outputs": [],
   "source": [
    "y_test = np.array(directory1)"
   ]
  },
  {
   "cell_type": "code",
   "execution_count": 17,
   "metadata": {
    "collapsed": true
   },
   "outputs": [],
   "source": [
    "# ytest pickling\n",
    "pickle_out = open('y_test','wb')\n",
    "pickle.dump(y_test, pickle_out)\n",
    "pickle_out.close()\n"
   ]
  },
  {
   "cell_type": "code",
   "execution_count": 18,
   "metadata": {
    "collapsed": true
   },
   "outputs": [],
   "source": [
    "del y_test"
   ]
  },
  {
   "cell_type": "code",
   "execution_count": 19,
   "metadata": {
    "collapsed": true
   },
   "outputs": [],
   "source": [
    "# loading dataset using pickled files\n",
    "\n",
    "with open('X_train', 'rb') as file:\n",
    "    X_train = pickle.load(file)\n",
    "    \n",
    "with open('y_train', 'rb') as file:\n",
    "    y_train = pickle.load(file)"
   ]
  },
  {
   "cell_type": "markdown",
   "metadata": {},
   "source": [
    "## Shuffling then train test split the dataset"
   ]
  },
  {
   "cell_type": "code",
   "execution_count": 20,
   "metadata": {
    "collapsed": true
   },
   "outputs": [],
   "source": [
    "#Shuffle the dataset\n",
    "x,y = shuffle(X_train,y_train, random_state=2)"
   ]
  },
  {
   "cell_type": "code",
   "execution_count": 21,
   "metadata": {
    "collapsed": true
   },
   "outputs": [],
   "source": [
    "# Split the dataset\n",
    "X_train, X_test, y_train, y_test = train_test_split(x, y, test_size=0.3, random_state=123, stratify=y)"
   ]
  },
  {
   "cell_type": "code",
   "execution_count": 22,
   "metadata": {
    "collapsed": true
   },
   "outputs": [],
   "source": [
    "# pickle processed files\n",
    "with open('keras_X_train', 'wb') as file:\n",
    "    pickle.dump(X_train, file)\n",
    "    \n",
    "with open('keras_y_train', 'wb') as file:\n",
    "    pickle.dump(y_train, file)\n",
    "\n",
    "with open('keras_X_test', 'wb') as file:\n",
    "    pickle.dump(X_test, file)\n",
    "    \n",
    "with open('keras_y_test', 'wb') as file:\n",
    "    pickle.dump(y_test, file)"
   ]
  },
  {
   "cell_type": "markdown",
   "metadata": {
    "collapsed": true
   },
   "source": [
    "![](https://media.giphy.com/media/8aLQDT8BXSj7y/giphy.gif)"
   ]
  },
  {
   "cell_type": "code",
   "execution_count": null,
   "metadata": {
    "collapsed": true
   },
   "outputs": [],
   "source": []
  }
 ],
 "metadata": {
  "anaconda-cloud": {},
  "kernelspec": {
   "display_name": "Python 3.6",
   "language": "python",
   "name": "py36"
  },
  "language_info": {
   "codemirror_mode": {
    "name": "ipython",
    "version": 2
   },
   "file_extension": ".py",
   "mimetype": "text/x-python",
   "name": "python",
   "nbconvert_exporter": "python",
   "pygments_lexer": "ipython2",
   "version": "2.7.14"
  }
 },
 "nbformat": 4,
 "nbformat_minor": 2
}
